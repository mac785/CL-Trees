{
 "cells": [
  {
   "cell_type": "markdown",
   "metadata": {},
   "source": [
    "# Welcome to the Binary Trees Exercise\n",
    "In this project, you are going to work on making Priority Queues and Huffman Coding.\n",
    "\n",
    "Before you continue, make sure you have watched the videos on Binary Trees and on Priority Queues. You can wait until halfway through the project before you watch the third video.\n",
    "\n",
    "Start by reading the code in the following block... This is _much_ of a PriorityQueue class, but there are some areas you'll be filling in.\n",
    "\n",
    "Right now, that text is just that - a block of text. You should click in the block to select it, and press the \"run cell\" button ![Run Button](https://goo.gl/7Z5x0b \"Run Button\") in the toolbar above to activate this code so that other blocks can access it.\n",
    "\n",
    "**IMPORTANT NOTE**: Whenever you make changes to this block, you will need to hit the run button again, or it will continue to run the old version. I guarantee somebody will forget this and get very frustrated. You don't want it to be you...."
   ]
  },
  {
   "cell_type": "code",
   "execution_count": 76,
   "metadata": {},
   "outputs": [],
   "source": [
    "showDebugMessages = False\n",
    "\n",
    "class PriorityQueue:\n",
    "\n",
    "    def __init__(self, tree = [], isMinHeap = True):\n",
    "        self.myTree = []\n",
    "        self.myTree.extend(tree)\n",
    "        self.isMinHeap = isMinHeap\n",
    "\n",
    "    def NodeAtIndex(self, index):\n",
    "        \"\"\"\n",
    "        gives the value stored in node at index\n",
    "        :param index: location in the tree\n",
    "        :return: value stored at that location\n",
    "        postcondition: the tree is unchanged\n",
    "        raises an indexError if we are out of bounds\n",
    "        \"\"\"\n",
    "        if self.inBounds(index):\n",
    "            return self.myTree[index]\n",
    "        raise IndexError(\"Index {0} is out of bounds for tree of size {1}\".format(index,len(self)))\n",
    "\n",
    "    def leftChildOfIndex(self,index):\n",
    "        \"\"\"\n",
    "        gives the index of the tree that is directly below and to the left of the given index.\n",
    "        Note: the index may be out of bounds.\n",
    "        :param index:\n",
    "        :return left child of node at index\n",
    "        \"\"\"\n",
    "        return 2*index + 1\n",
    "\n",
    "    def rightChildOfIndex(self,index):\n",
    "        \"\"\"\n",
    "        gives the index of the tree that is directly below and to the right of the given index.\n",
    "        Note: the index may be out of bounds.\n",
    "        :param index:\n",
    "        :return right child of node at index\n",
    "        \"\"\"\n",
    "        return 2*index + 2\n",
    "\n",
    "    def parentOfIndex(self,index):\n",
    "        \"\"\"\n",
    "        gives the index of the tree that is the parent of the given index\n",
    "        :param index:\n",
    "        :return index above the given node index:\n",
    "        \"\"\"\n",
    "        return int((index-1)/2) # yay, integer math!\n",
    "\n",
    "    def __len__(self):\n",
    "        return len(self.myTree)\n",
    "\n",
    "    def inBounds(self,index):\n",
    "        \"\"\"\n",
    "        indicates whether index is within the size of this tree\n",
    "        :param index:\n",
    "        :return:\n",
    "        \"\"\"\n",
    "        return index >=0 and index< len(self)\n",
    "\n",
    "    def hasLeftChild(self,index):\n",
    "        \"\"\"\n",
    "        indicates whether the node at this index has a child to the left\n",
    "        :param index:\n",
    "        :return boolean:\n",
    "        \"\"\"\n",
    "        return self.inBounds(self.leftChildOfIndex(index))\n",
    "\n",
    "    def hasRightChild(self,index):\n",
    "        \"\"\"\n",
    "        indicates whether the node at this index has a child to the right\n",
    "        :param index:\n",
    "        :return boolean:\n",
    "        \"\"\"\n",
    "        return self.inBounds(self.rightChildOfIndex(index))\n",
    "    \n",
    "    def hasParent(self,index):\n",
    "        \"\"\"\n",
    "        Coded this myself, used to see if there is a parent, and makes sure it doesn't go out of bounds\n",
    "        \"\"\"\n",
    "        return self.inBounds(self.parentOfIndex(index))\n",
    "\n",
    "    def aHasPriorityOverB(self, a, b):\n",
    "        \"\"\"\n",
    "        Determines whether the node \"a\" has priority over node \"b.\" This is determined by the priorities of \"a\" and \"b\" and \n",
    "        by self.isMinHeap - i.e, should the higher node prevail, or the lower node? \n",
    "        If the values are equal, then we _do_ say that the \"a\" node has priority.\n",
    "        \"\"\"\n",
    "        if self.isMinHeap:\n",
    "            return a[0] <= b[0]\n",
    "        return a[0] >= b[0]\n",
    "\n",
    "    def isEmpty(self):\n",
    "        return len(self) == 0\n",
    "    \n",
    "    def __str__(self):\n",
    "        \"\"\"\n",
    "        Draws a string representation of this tree, without changing it.\n",
    "        :return:\n",
    "        \"\"\"\n",
    "        spacesPerItem = 64\n",
    "        result = \"\"\n",
    "        itemsPerRow = 1\n",
    "        itemsInCurrentRow = 0\n",
    "        for item in self.myTree:\n",
    "            block = \"{0}:{1}\".format(item[0],item[1])\n",
    "            result+=\"{0}{1}{0}\".format(\" \"*int(spacesPerItem-(len(block))/2),block)\n",
    "            itemsInCurrentRow += 1\n",
    "            if itemsInCurrentRow == itemsPerRow:\n",
    "                itemsInCurrentRow = 0\n",
    "                itemsPerRow *= 2\n",
    "                spacesPerItem /= 2\n",
    "                result +=\"\\n\"\n",
    "        return result\n",
    "\n",
    "    def clear(self):\n",
    "        \"\"\"\n",
    "        removes all items from this priority queue.\n",
    "        :return None:\n",
    "        \"\"\"\n",
    "        self.myTree = []\n",
    "\n",
    "    def isAHeap(self):\n",
    "        \"\"\"\n",
    "        checks whether the self.myTree variable holds a representation that is a heap. Any tree is considered a heap \n",
    "        until you find a child that has greater priority than its parent.\n",
    "        :return whether _all_ nodes are in a heap-like relationship with parents and children:\n",
    "        \"\"\"\n",
    "        index = 0\n",
    "        while self.inBounds(index):\n",
    "            # ----------------------\n",
    "            if(self.hasLeftChild(index)):\n",
    "                if(not self.aHasPriorityOverB(self.NodeAtIndex(index), self.NodeAtIndex(self.leftChildOfIndex(index)))):\n",
    "                    return False\n",
    "            if(self.hasRightChild(index)):\n",
    "                if(not self.aHasPriorityOverB(self.NodeAtIndex(index), self.NodeAtIndex(self.rightChildOfIndex(index)))):\n",
    "                    return False\n",
    "            # ----------------------\n",
    "            index += 1\n",
    "        if (showDebugMessages):\n",
    "            print(\"This is a heap.\")\n",
    "        return True\n",
    "\n",
    "    def addValue(self,value,priority=1):\n",
    "        \"\"\"\n",
    "        adds a node to this data structure and makes sure that the myTree data structure is\n",
    "        still a heap.\n",
    "        :param value: the value to store\n",
    "        :param priority: its relative weight\n",
    "        :return None:\n",
    "        \"\"\"\n",
    "        if (showDebugMessages):\n",
    "            print (\"-\"*128)\n",
    "            print (\"Adding: [{0}, {1}]\".format(priority, value))\n",
    "        self.myTree.append([priority,value]) #makes a new, 2-element list and adds it to the main array.\n",
    "        self.heapifyUp(len(self)-1)\n",
    "        if (showDebugMessages):\n",
    "            print (self)\n",
    "\n",
    "    def heapifyUp(self,index):\n",
    "        \"\"\"\n",
    "        given the index, potentially swaps itself with its parent, and onward up the tree\n",
    "        as needed to make this a heap.\n",
    "        precondition: The node at index is the only one in myTree that is un-heaplike\n",
    "        :param index:\n",
    "        :return None:\n",
    "        \"\"\"\n",
    "        # ----------------------\n",
    "        parentIndex = self.parentOfIndex(index)\n",
    "        if(parentIndex>=0):\n",
    "            if (self.aHasPriorityOverB(self.NodeAtIndex(index), self.NodeAtIndex(parentIndex))):\n",
    "                temp = self.myTree[index]\n",
    "                self.myTree[index] = self.myTree[parentIndex]\n",
    "                self.myTree[parentIndex] = temp\n",
    "                if(not parentIndex == 0):\n",
    "                    self.heapifyUp(parentIndex)\n",
    "        # ----------------------\n",
    "\n",
    "    def peek(self):\n",
    "        \"\"\"\n",
    "        Gives the node at the start of this Priority Queue without removing it.\n",
    "        \"\"\"\n",
    "        if self.isEmpty():\n",
    "            raise IndexError(\"Attempted to peek at an empty Queue.\")\n",
    "        return self.myTree[0]\n",
    "        \n",
    "    def pop(self):\n",
    "        \"\"\"\n",
    "        Removes the node at the start of this Priority Queue and resets the Queue so that it is in order; then\n",
    "        returns the removed node.\n",
    "        \"\"\"\n",
    "        if self.isEmpty():\n",
    "            raise IndexError(\"Attempted to pop from an empty Queue.\")\n",
    "        result = self.myTree[0]\n",
    "        self.myTree[0] = self.myTree[-1]\n",
    "        del(self.myTree[-1])\n",
    "        if (showDebugMessages):\n",
    "            print (\"*\"*128)\n",
    "            print (\"Just popped {0}\".format(result))\n",
    "        self.heapifyDown()\n",
    "        if (showDebugMessages):\n",
    "            print (self)\n",
    "        return result\n",
    "\n",
    "    def heapifyDown(self, index = 0):\n",
    "        \"\"\"\n",
    "        The node at index is possible too high in the tree; we compare it to its children and potentially swap\n",
    "        it with one of them to put it in better order, and repeat with the node in its new location.\n",
    "        precondition: the tree is a heap, except for the node at \"index.\"\n",
    "        postcondition: the tree is once again a heap\n",
    "        \"\"\"\n",
    "        if not self.inBounds(index):\n",
    "            return\n",
    "        currentNode = self.NodeAtIndex(index)\n",
    "        leftIndex = self.leftChildOfIndex(index)\n",
    "        rightIndex = self.rightChildOfIndex(index)\n",
    "\n",
    "        if self.inBounds(leftIndex):\n",
    "            # ----------------------\n",
    "            needsToGoLeft = self.aHasPriorityOverB(self.NodeAtIndex(leftIndex), currentNode)\n",
    "            if self.inBounds(rightIndex):\n",
    "                needsToGoRight = self.aHasPriorityOverB(self.NodeAtIndex(rightIndex), currentNode)\n",
    "            else:\n",
    "                needsToGoRight = False\n",
    "                \n",
    "            if(not needsToGoLeft and not needsToGoRight):\n",
    "                return\n",
    "            \n",
    "            if needsToGoRight:\n",
    "                isLeftHigherThanRight = self.aHasPriorityOverB(self.NodeAtIndex(leftIndex),self.NodeAtIndex(rightIndex))\n",
    "            else:\n",
    "                isLeftHigherThanRight = True\n",
    "            \n",
    "            if(isLeftHigherThanRight):\n",
    "                temp = self.myTree[index]\n",
    "                self.myTree[index] = self.myTree[leftIndex]\n",
    "                self.myTree[leftIndex] = temp\n",
    "                self.heapifyDown(leftIndex)\n",
    "            else:\n",
    "                temp = self.myTree[index]\n",
    "                self.myTree[index] = self.myTree[rightIndex]\n",
    "                self.myTree[rightIndex] = temp\n",
    "                self.heapifyDown(rightIndex)\n",
    "            # ----------------------\n",
    "        # Since this tree is complete, we don't need to worry about the right node if the\n",
    "        # left node was out of bounds.\n"
   ]
  },
  {
   "cell_type": "markdown",
   "metadata": {},
   "source": [
    "### isAHeap()\n",
    "The first thing you should modify in this file is to complete the \"isAHeap()\" method. In the cell above, add the code required to make this function work correctly. When you are ready to test your code, click the run button to activate that cell. Then go to the cell below this one to run the testing code on your handiwork.\n",
    "A few hints:\n",
    "* Try running the test before you make changes so that you can see what it looks like. Did any tests pass? Did any fail?\n",
    "* The PriorityQueue might be based on a minHeap or a maxHeap, but you do not need to do anything special to distinguish between them, as long as you make use of the method aHasPriorityOverB(). (So don't reinvent the wheel!)\n",
    "* Don't forget to check whether the children exist _before_ you ask whether they have more priority than the parent.\n",
    "* Use the disk button to save this page periodically.\n",
    "* Don't forget about the running the cell whenever you make changes!"
   ]
  },
  {
   "cell_type": "code",
   "execution_count": 77,
   "metadata": {
    "scrolled": true
   },
   "outputs": [
    {
     "name": "stderr",
     "output_type": "stream",
     "text": [
      ".......\n",
      "----------------------------------------------------------------------\n",
      "Ran 7 tests in 0.007s\n",
      "\n",
      "OK\n"
     ]
    },
    {
     "data": {
      "text/plain": [
       "<unittest.runner.TextTestResult run=7 errors=0 failures=0>"
      ]
     },
     "execution_count": 77,
     "metadata": {},
     "output_type": "execute_result"
    }
   ],
   "source": [
    "from unittest import *\n",
    "\n",
    "class IsHeapTester (TestCase):\n",
    "    def test_heap_1(self):\n",
    "        # 1/7 Testing a bad heap.\n",
    "        npq = PriorityQueue([[3,\"A\"],[4,\"B\"],[5,\"C\"],[2,\"D\"]])\n",
    "        self.assertFalse(npq.isAHeap(), \"Did not recognize a bad heap.\")\n",
    "        \n",
    "    def test_heap_2(self):\n",
    "        # 2/7 Testing a min heap.\n",
    "        pq = PriorityQueue([[0,\"a\"],[1,\"b\"],[2,\"c\"],[3,\"d\"],[4,\"e\"],[5,\"f\"],\\\n",
    "                        [6,\"g\"],[7,\"h\"],[8,\"i\"]],isMinHeap=True)\n",
    "        self.assertTrue(pq.isAHeap(), \"Did not recognize a min heap.\")\n",
    "        \n",
    "    def test_heap_3(self):\n",
    "        # 3/7 Testing a max heap.\n",
    "        pq2 = PriorityQueue([[12,\"a\"],[10,\"a\"],[8,\"a\"],[6,\"a\"],[4,\"a\"],[2,\"a\"],\\\n",
    "                         [0,\"a\"],[-1,\"a\"]], isMinHeap=False)\n",
    "        self.assertTrue(pq2.isAHeap(), \"Did not recognize a max heap.\")\n",
    "        \n",
    "    def test_heap_4(self):\n",
    "        # 4/7 Testing max heap data stored in a min heap.\n",
    "        pq3 = PriorityQueue([[12,\"a\"],[10,\"a\"],[8,\"a\"],[6,\"a\"],[4,\"a\"],[2,\"a\"],\\\n",
    "                         [0,\"a\"],[-1,\"a\"]], isMinHeap=True)\n",
    "        self.assertFalse(pq3.isAHeap(), \"Did not recognize a bad min heap composed of max heap data.\")\n",
    "        \n",
    "    def test_heap_5(self):\n",
    "        # 5/7 Testing a more complicated heap.\n",
    "        pq4 = PriorityQueue([[0,\"a\"],[6,\"a\"],[3,\"a\"],[7,\"a\"],[8,\"a\"],[4,\"a\"],\\\n",
    "                         [10,\"a\"],[9,\"a\"],[15,\"a\"],[11,\"a\"],[13,\"a\"],[5,\"a\"]])\n",
    "        self.assertTrue(pq4.isAHeap(), \"Did not recognize a complicated heap.\")\n",
    "        \n",
    "    def test_heap_6(self):\n",
    "        # 6/7 Testing a singleton heap.\n",
    "        pq5 = PriorityQueue([[0,\"w\"]],isMinHeap = False)\n",
    "        self.assertTrue(pq5.isAHeap(), \"Did not recognize a singleton heap.\")\n",
    "        \n",
    "    def test_heap_7(self):\n",
    "        # 7/7 Testing an empty heap.\n",
    "        pq6 = PriorityQueue()\n",
    "        self.assertTrue(pq6.isAHeap(),\"Did not recognize an empty heap.\")\n",
    "        \n",
    "\n",
    "suite = TestLoader().loadTestsFromModule(IsHeapTester())\n",
    "TextTestRunner().run(suite)"
   ]
  },
  {
   "cell_type": "markdown",
   "metadata": {},
   "source": [
    "### heapifyUp()\n",
    "Next, you should fill in the heapifyUp method. This is the one that gets called as part of the \"Add\" method. That method has already added a new item to the end of the heap. (So the heap is in good shape except for the node at index.) Your job is to compare this node with its parent and check that it is in proper order. If not, swap child and parent, and then repeat the process with the questionable node, which is now in the parent location.\n",
    "\n",
    "The cell that follows has test code for this process.\n",
    "\n",
    "* You can do this via a recursive method or via a loop. Either is acceptable.\n",
    "* I suggest that you make local, temporary variables for the indicies in question and for the nodes found there to help make your code more readable.\n",
    "* If you are using recursion, what are the base cases?\n",
    "* If you are using a loop, when should it stop? You can use the end condition of the while loop and/or a break command to do so.\n",
    "* Don't forget to run the code in the second cell before you come down to the next cell to test it. (Note that the Cell menu at the top has the means to activate several cells at once.)"
   ]
  },
  {
   "cell_type": "code",
   "execution_count": 78,
   "metadata": {},
   "outputs": [
    {
     "name": "stderr",
     "output_type": "stream",
     "text": [
      "...\n",
      "----------------------------------------------------------------------\n",
      "Ran 3 tests in 0.004s\n",
      "\n",
      "OK\n"
     ]
    },
    {
     "data": {
      "text/plain": [
       "<unittest.runner.TextTestResult run=3 errors=0 failures=0>"
      ]
     },
     "execution_count": 78,
     "metadata": {},
     "output_type": "execute_result"
    }
   ],
   "source": [
    "from unittest import *\n",
    "\n",
    "class PQTester2 (TestCase):\n",
    "    \n",
    "    def test_heap_add_1(self):\n",
    "        #creating a min heap\n",
    "        pq = PriorityQueue(isMinHeap=True)\n",
    "        items = [[0,\"AB\"],[7,\"CD\"],[3,\"EF\"],[4,\"GH\"],[8,\"IJ\"],[10,\"KL\"],[5,\"MN\"],[13,\"OP\"],[6,\"QR\"],[12,\"ST\"],\\\n",
    "             [2,\"UV\"],[1,\"WX\"],[9,\"YZ\"]]\n",
    "\n",
    "        minHeapTree = [[0, 'AB'], [2, 'UV'], [1, 'WX'], [6, 'QR'], [4, 'GH'], [3, 'EF'], [5, 'MN'], [13, 'OP'],\\\n",
    "                   [7, 'CD'], [12, 'ST'], [8, 'IJ'], [10, 'KL'], [9, 'YZ']]\n",
    "        \n",
    "        for item in items:\n",
    "            pq.addValue(value=item[1],priority=item[0])\n",
    "        \n",
    "        self.assertEqual(pq.myTree, minHeapTree, \"Did not create a min heap.\")\n",
    "        \n",
    "    def test_heap_add_2(self): \n",
    "        #creating a max heap\n",
    "        pq = PriorityQueue(isMinHeap=False)\n",
    "        items = [[0,\"AB\"],[7,\"CD\"],[3,\"EF\"],[4,\"GH\"],[8,\"IJ\"],[10,\"KL\"],[5,\"MN\"],[13,\"OP\"],[6,\"QR\"],[12,\"ST\"],\\\n",
    "             [2,\"UV\"],[1,\"WX\"],[9,\"YZ\"]]\n",
    "\n",
    "        maxHeapTree = [[13, 'OP'], [12, 'ST'], [9, 'YZ'], [7, 'CD'], [10, 'KL'], [8, 'IJ'], [5, 'MN'], [0, 'AB'],\\\n",
    "                   [6, 'QR'], [4, 'GH'], [2, 'UV'], [1, 'WX'], [3, 'EF']]\n",
    "\n",
    "        for item in items:\n",
    "            pq.addValue(value=item[1],priority=item[0])\n",
    "        \n",
    "        self.assertEqual(pq.myTree, maxHeapTree, \"Did not create a max heap.\")\n",
    "        \n",
    "    def test_heap_add_3(self): \n",
    "        #creating a min heap with duplicate priorities\n",
    "        pq = PriorityQueue(isMinHeap=True)\n",
    "        items = [[3,\"ZY\"],[2,\"XW\"],[4,\"VU\"],[1,\"TS\"],[2,\"RQ\"]]\n",
    "\n",
    "        option1 = [[1, 'TS'], [2, 'RQ'], [4, 'VU'], [3, 'ZY'], [2, 'XW']]\n",
    "        option2 = [[1, 'TS'], [2, 'XW'], [4, 'VU'], [3, 'ZY'], [2, 'RQ']]\n",
    "\n",
    "        for item in items:\n",
    "            pq.addValue(value=item[1],priority=item[0])\n",
    "        \n",
    "        self.assertTrue(pq.myTree == option1 or pq.myTree == option2, \"Could not create heap with duplicate priorities.\")\n",
    "\n",
    "        \n",
    "suite2 = TestLoader().loadTestsFromTestCase(PQTester2)\n",
    "TextTestRunner().run(suite2)"
   ]
  },
  {
   "cell_type": "markdown",
   "metadata": {},
   "source": [
    "### heapifyDown()\n",
    "In this third task (of three) in the PriorityQueue class, you are going to implement the heapifyDown() method. This method gets called by the pop() method, after we have removed the topmost item and moved the last item in the tree to the top position; this node is now (likely) out of place, and we need to shift it down the tree to where it belongs.\n",
    "\n",
    "This is a little trickier than heapifyUp(), because you have to potentially compare with two nodes - and make sure the \"best\" priority of the currentNode, leftNode and rightNode winds up at top spot of the three.\n",
    "\n",
    "* Again, this can be done iteratively (with a \"while\" loop) or recursively. Either is fine.\n",
    "* You can see that I have made variables for the current node, the leftIndex and the rightIndex. I think you'll want to make variables for the leftNode and the rightNode, too... if they exist.\n",
    "* You may notice that in the section that you are writing, there is a line that begins with \"pass\" -- this is a do-nothing line that allows us to compile when we have an otherwise empty \"if\" statement, and you can get rid of it as soon as you start putting text in here.\n",
    "* Just as with heapifyUp(), what are your (base cases/ stopping conditions)?\n",
    "* Don't forget to run the cell you are editing before you run the tests below!\n"
   ]
  },
  {
   "cell_type": "code",
   "execution_count": 79,
   "metadata": {
    "scrolled": false
   },
   "outputs": [
    {
     "name": "stderr",
     "output_type": "stream",
     "text": [
      ".\n",
      "----------------------------------------------------------------------\n",
      "Ran 1 test in 0.001s\n",
      "\n",
      "OK\n"
     ]
    },
    {
     "data": {
      "text/plain": [
       "<unittest.runner.TextTestResult run=1 errors=0 failures=0>"
      ]
     },
     "execution_count": 79,
     "metadata": {},
     "output_type": "execute_result"
    }
   ],
   "source": [
    "from unittest import *\n",
    "\n",
    "class PQTester3 (TestCase):\n",
    "    def test_remove_1(self):\n",
    "        pq = PriorityQueue(isMinHeap=True)\n",
    "        items = [[0,\"AB\"],[7,\"CD\"],[3,\"EF\"],[4,\"GH\"],[8,\"IJ\"],[10,\"KL\"],[5,\"MN\"],[13,\"OP\"],[6,\"QR\"],[12,\"ST\"],\\\n",
    "             [2,\"UV\"],[1,\"WX\"],[9,\"YZ\"]]\n",
    "        itemsAfterPop = [[1, 'WX'], [2, 'UV'], [3, 'EF'], [6, 'QR'], [4, 'GH'], [9, 'YZ'], [5, 'MN'], [13, 'OP'],\\\n",
    "                   [7, 'CD'], [12, 'ST'], [8, 'IJ'], [10, 'KL']]\n",
    "        itemsAfterPop2 = [[2, 'UV'], [4, 'GH'], [3, 'EF'], [6, 'QR'], [8, 'IJ'], [9, 'YZ'], [5, 'MN'], [13, 'OP'],\\\n",
    "                   [7, 'CD'], [12, 'ST'], [10, 'KL']]\n",
    "        for item in items:\n",
    "            pq.addValue(value=item[1],priority=item[0])\n",
    "        self.assertEqual(pq.pop(),[0,\"AB\"],\"Failed to pop smallest priority item from minHeap.\")\n",
    "        self.assertEqual(pq.myTree,itemsAfterPop,\"myTree is no longer a min heap.\")\n",
    "        self.assertEqual(pq.pop(),[1,\"WX\"],\"Failed to pop second smallest priority item from minHeap.\")\n",
    "        self.assertEqual(pq.myTree,itemsAfterPop2,\"myTree is no longer a min heap after second pop.\")\n",
    "        \n",
    "        \n",
    "suite3 = TestLoader().loadTestsFromTestCase(PQTester3)\n",
    "TextTestRunner().run(suite3)"
   ]
  },
  {
   "cell_type": "markdown",
   "metadata": {},
   "source": [
    "# Huffman Encoding/Decoding\n",
    "Ok, now we are going to look at Huffman encoding. (You've watched the Huffman Coding video now, right?)\n",
    "\n",
    "This is going to involve trees that aren't necessarily complete, so we can't use the array representation we did for the priority queues. Instead, we'll use a more traditional \"TreeNode\" structure. Familiarize yourself with the following TreeNode class, which should not need modification. (But you **do** need to run the cell.)"
   ]
  },
  {
   "cell_type": "code",
   "execution_count": 80,
   "metadata": {
    "collapsed": true
   },
   "outputs": [],
   "source": [
    "class TreeNode:\n",
    "    def __init__(self, value = None, left = None, right = None):\n",
    "        self.value = value\n",
    "        self.left = left\n",
    "        self.right = right\n",
    "        \n",
    "    def hasLeft(self):\n",
    "        return self.left is not None\n",
    "    \n",
    "    def hasRight(self):\n",
    "        return self.right is not None"
   ]
  },
  {
   "cell_type": "markdown",
   "metadata": {},
   "source": [
    "## LeafNode & JointNode\n",
    "Huffman coding involves a tree that has node that are either leaves or parents of two children - there are no single-child parents. So we are going to treat TreeNode as an abstract class for the purpose of this project, and make two subclasses of TreeNode: LeafNode and JointNode. Again, you need to run this next cell, but you should not need to change it."
   ]
  },
  {
   "cell_type": "code",
   "execution_count": 81,
   "metadata": {
    "collapsed": true
   },
   "outputs": [],
   "source": [
    "class LeafNode (TreeNode):\n",
    "    def __init__(self, value = None):\n",
    "        super().__init__(value = value, left = None, right = None)\n",
    "        \n",
    "        \n",
    "    def hasLeft(self):\n",
    "        return False\n",
    "    def hasRight(self):\n",
    "        return False\n",
    "    \n",
    "    def __str__(self):\n",
    "        \"\"\" this is like toString() in java, when the user wants to print this node.\"\"\"\n",
    "        return \"[{0}]\".format(self.value)\n",
    "    def __repr__(self):\n",
    "        \"\"\" this is like toString() in java, when the user is printing a bunch of these \n",
    "        objects inside another data structure. We'll need both versions.\"\"\"\n",
    "        return \"[{0}]\".format(self.value)\n",
    "    \n",
    "class JointNode (TreeNode):\n",
    "    def __init__(self, left, right):\n",
    "        super().__init__(None, left, right)\n",
    "        if left is None or right is None:\n",
    "            raise RuntimeError(\"Tried to create a JointNode that didn't have both children. Left was {0}, right was {0}\".format(left, right))\n",
    "    def __str__(self):\n",
    "        return \"joint\""
   ]
  },
  {
   "cell_type": "markdown",
   "metadata": {},
   "source": [
    "## HuffmanEncoder class\n",
    "Now for the HuffmanEncoder, itself. This is the one that you will be editing. As you can see, it is comprised of an __init__() method that calls several processes for setting up the tree and a dictionary that you can use to decode and encode messages."
   ]
  },
  {
   "cell_type": "code",
   "execution_count": 87,
   "metadata": {},
   "outputs": [],
   "source": [
    "class HuffmanEncoder():\n",
    "    def __init__(self,stringToEncode = \"\"):\n",
    "        self.encodeString = stringToEncode\n",
    "        self.encodeDictionary = {}\n",
    "        \n",
    "    def doSetup(self):\n",
    "        self.buildFrequencyDictionary()\n",
    "        self.buildPriorityQueue()\n",
    "        self.buildTree()\n",
    "        self.buildEncodeDictionaryWithTree(self.encodingTree)\n",
    "    \n",
    "    def buildFrequencyDictionary(self):\n",
    "        \"\"\"\n",
    "        construct a dictionary where the various single-character strings found in the encodeString are the\n",
    "        keys, and the number of times they appear are the values.\n",
    "        For instance, \"red beret\" would lead to a dictionary {\"r\":2, \"e\":3, \"d\":1, \" \":1, \"b\":1, \"t\":1}\n",
    "        \"\"\"\n",
    "        self.freqDict = {}\n",
    "        for i in range(len(self.encodeString)):\n",
    "            character = self.encodeString[i:i+1]\n",
    "            ## ----------------------------------------\n",
    "            self.freqDict[character]=self.encodeString.count(character)\n",
    "            ## ----------------------------------------\n",
    "            \n",
    "    \n",
    "    def buildPriorityQueue(self):\n",
    "        self.frequencyQueue = PriorityQueue(isMinHeap = True)\n",
    "        # ----------------------\n",
    "        for i in self.freqDict.keys():\n",
    "            self.frequencyQueue.addValue(LeafNode(i),int(self.freqDict.get(i)))\n",
    "        # ----------------------\n",
    "\n",
    "    def buildTree(self):\n",
    "        # ----------------------\n",
    "        # TODO: You'll be writing this part! Insert your code here.\n",
    "        while (self.frequencyQueue.__len__() > 1):\n",
    "            self.tempPrior = 0\n",
    "            self.tempPrior += self.frequencyQueue.peek()[0]\n",
    "            self.temp1 = self.frequencyQueue.pop()[1]\n",
    "            self.tempPrior += self.frequencyQueue.peek()[0]\n",
    "            self.temp2 = self.frequencyQueue.pop()[1]\n",
    "            self.frequencyQueue.addValue(JointNode(self.temp1,self.temp2),self.tempPrior)\n",
    "        # ----------------------\n",
    "        self.encodingTree = self.frequencyQueue.pop()[1]\n",
    "    \n",
    "    def buildEncodeDictionaryWithTree(self, root = None, listSoFar = []):\n",
    "        if root is None:\n",
    "            root = self.encodingTree # ok to do, because we would only go left or right recursively if there is a left and right.\n",
    "        if root.hasLeft():\n",
    "            leftList = listSoFar[:]\n",
    "            leftList.append(0)\n",
    "            self.buildEncodeDictionaryWithTree(root.left,leftList)\n",
    "            rightList = listSoFar[:]\n",
    "            rightList.append(1)\n",
    "            self.buildEncodeDictionaryWithTree(root.right,rightList)\n",
    "        else:\n",
    "            self.encodeDictionary[root.value]=listSoFar  \n",
    "        \n",
    "    def encodeMessage(self, messageToEncode):\n",
    "        encodedResult = []\n",
    "        # ----------------------\n",
    "        for i in range(len(messageToEncode)):\n",
    "            character = self.encodeString[i:i+1]\n",
    "            encodedResult.extend(self.encodeDictionary[character])\n",
    "        # ----------------------\n",
    "        return encodedResult\n",
    "    \n",
    "    def decodeMessage(self, messageToDecode):\n",
    "        decodedResult = \"\"\n",
    "        p = self.encodingTree\n",
    "        # ----------------------\n",
    "        for i in messageToDecode:\n",
    "            if(i == 0 and p.left is not None):\n",
    "                p = p.left\n",
    "            elif (i==1 and p.right is not None):\n",
    "                p = p.right\n",
    "            else:\n",
    "                decodedResult += p.value\n",
    "                p = self.encodingTree\n",
    "                if(i == 0 and p.left is not None):\n",
    "                    p = p.left\n",
    "                elif (i==1 and p.right is not None):\n",
    "                    p = p.right\n",
    "        decodedResult += p.value\n",
    "        # ----------------------\n",
    "        return decodedResult\n",
    "                "
   ]
  },
  {
   "cell_type": "markdown",
   "metadata": {},
   "source": [
    "### buildFrequencyDictionary\n",
    "Start by modifying the buildFrequencyDictionary in the Huffman Encoder block. Note that it makes use of dictionaries, as described in the video. Suppose you have a dictonary called webster... The syntax for checking whether a word (e.g., \"incorporated\") is in the dictionay is \n",
    ">`if \"incorporated\" in webster:`\n",
    "\n",
    "To add or modify an element in a dictionary, you would use normal list syntax: \n",
    "\n",
    ">`webster[\"dictionary\"]=\"You're holding it. Duh.\"`\n",
    "\n",
    "I've written the loop for you, so this should be a pretty quick method to write. Don't get complicated! (My version is 4 lines.) When you are done, test it with the code block below."
   ]
  },
  {
   "cell_type": "code",
   "execution_count": 88,
   "metadata": {
    "scrolled": false
   },
   "outputs": [
    {
     "name": "stderr",
     "output_type": "stream",
     "text": [
      ".\n",
      "----------------------------------------------------------------------\n",
      "Ran 1 test in 0.001s\n",
      "\n",
      "OK\n"
     ]
    },
    {
     "data": {
      "text/plain": [
       "<unittest.runner.TextTestResult run=1 errors=0 failures=0>"
      ]
     },
     "execution_count": 88,
     "metadata": {},
     "output_type": "execute_result"
    }
   ],
   "source": [
    "from unittest import *\n",
    "\n",
    "class FrequencyDictTester (TestCase):\n",
    "    def test_frequencyDict(self):\n",
    "        encoder = HuffmanEncoder(\"The quick brown fox\")\n",
    "        encoder.buildFrequencyDictionary()\n",
    "        self.assertEqual(encoder.freqDict[\"q\"],1,\"\\\"q\\\" should be found once.\")\n",
    "        self.assertEqual(encoder.freqDict[\"o\"],2,\"\\\"o\\\" should be found twice.\")\n",
    "        self.assertEqual(encoder.freqDict[\" \"],3,\"\\\" \\\" should be found three times.\")\n",
    "        self.assertFalse(\"j\" in encoder.freqDict,\"\\\"j\\\" should not be found in the string.\")\n",
    "        self.assertTrue(\"x\" in encoder.freqDict, \"\\\"x\\\" should be found in the string.\")\n",
    "        \n",
    "        expected = {\"T\":1, \"h\":1, \"e\":1, \" \":3, \"q\":1, \"u\":1, \"i\":1, \"c\":1, \"k\":1, \"b\":1, \"r\":1,\\\n",
    "                    \"o\":2, \"w\":1, \"n\":1, \"f\":1, \"x\":1}\n",
    "        self.assertEqual(encoder.freqDict, expected,\"Did not get expected dictionary.\")\n",
    "    \n",
    "#     def test_encoding(self):\n",
    "#         \n",
    "        \n",
    "suite4 = TestLoader().loadTestsFromTestCase(FrequencyDictTester)\n",
    "TextTestRunner().run(suite4)"
   ]
  },
  {
   "cell_type": "markdown",
   "metadata": {},
   "source": [
    "### buildPriorityQueue()\n",
    "The next step is to sort the values you just found. You are going to create a min-heap priority queue of TreeNodes (called `self.frequencyQueue`) out of the data in `self.freqDict.` Your priorityQueue will have priority of the count of the letters, and the values will be brand-new `LeafNodes`, with the character as the value in the node. (That is, you'll need to make a new `LeafNode` for each item in `self.freqDict` and add it to the PQ.)\n",
    "\n",
    "Write this code in the buildPriorityQueue() method in the HuffmanEncoder class (above), and test it below."
   ]
  },
  {
   "cell_type": "code",
   "execution_count": 89,
   "metadata": {},
   "outputs": [
    {
     "name": "stderr",
     "output_type": "stream",
     "text": [
      ".\n",
      "----------------------------------------------------------------------\n",
      "Ran 1 test in 0.002s\n",
      "\n",
      "OK\n"
     ]
    },
    {
     "data": {
      "text/plain": [
       "<unittest.runner.TextTestResult run=1 errors=0 failures=0>"
      ]
     },
     "execution_count": 89,
     "metadata": {},
     "output_type": "execute_result"
    }
   ],
   "source": [
    "from unittest import *\n",
    "\n",
    "class HuffManPriorityQueueTester (TestCase):\n",
    "    def test_PQ(self):\n",
    "        \n",
    "        encoder = HuffmanEncoder(\"How much wood would a woodchuck chuck if a woodchuck could chuck wood?\")\n",
    "        encoder.buildFrequencyDictionary()\n",
    "        encoder.buildPriorityQueue()\n",
    "        PQ = encoder.frequencyQueue\n",
    "        counts = [1, 1, 1, 1, 1, 2, 2, 4, 5, 6, 6, 7, 10, 11, 12]\n",
    "        values = ['?', 'H', 'm', 'f', 'i', 'a', 'l', 'k', 'h', 'd', 'w', 'u', 'c', 'o', ' ']\n",
    "        i = 0\n",
    "        while not PQ.isEmpty():\n",
    "            \n",
    "            node = PQ.pop() #node[0] is an int; node[1] is a LeafNode.\n",
    "            self.assertEqual(node[0],counts[i])\n",
    "            self.assertEqual(node[1].value,values[i])\n",
    "            i+=1\n",
    "\n",
    "suite5 = TestLoader().loadTestsFromTestCase(HuffManPriorityQueueTester)\n",
    "TextTestRunner().run(suite5)"
   ]
  },
  {
   "cell_type": "markdown",
   "metadata": {},
   "source": [
    "### buildTree()\n",
    "Next up: using the priority queue (`self.frequencyQueue`) to generate a Huffman Encoding tree for this string. (We are using the queue to make the most efficient tree for this string, so that frequently used characters appear higher in the tree.) Here is the algorithm for doing this:\n",
    "+ Pop *two* nodes off the priority queue. These are the two lowest-frequency nodes on the tree.\n",
    "+ Create a new JointNode with these two nodes.\n",
    "+ Add the new JointNode back into the priority queue, with a new priority that is the sum of the previous two.\n",
    "+ Repeat until you cannot pop two nodes - that is, until there are no more pairs to combine!\n",
    "The one node left in the queue will be your new tree, which you should store in the variable `self.encodingTree`.\n",
    "\n",
    "Write this code in the buildTree() method in the HuffmanEncoder class (above) and test it below."
   ]
  },
  {
   "cell_type": "code",
   "execution_count": 90,
   "metadata": {},
   "outputs": [
    {
     "name": "stderr",
     "output_type": "stream",
     "text": [
      ".\n",
      "----------------------------------------------------------------------\n",
      "Ran 1 test in 0.002s\n",
      "\n",
      "OK\n"
     ]
    },
    {
     "data": {
      "text/plain": [
       "<unittest.runner.TextTestResult run=1 errors=0 failures=0>"
      ]
     },
     "execution_count": 90,
     "metadata": {},
     "output_type": "execute_result"
    }
   ],
   "source": [
    "from unittest import *\n",
    "\n",
    "class HuffManTreeTester (TestCase):\n",
    "    def testBuildTree(self):\n",
    "        encoder = HuffmanEncoder(\"Hickory Dickory Dock\")\n",
    "        encoder.buildFrequencyDictionary()\n",
    "        encoder.buildPriorityQueue()\n",
    "        encoder.buildTree()\n",
    "\n",
    "        self.assertEqual(encoder.encodingTree.left.left.left.value, ' ')\n",
    "        self.assertEqual(encoder.encodingTree.left.left.right.value, 'i')\n",
    "        self.assertEqual(encoder.encodingTree.right.left.right.value, 'c')\n",
    "        self.assertEqual(encoder.encodingTree.right.right.left.left.value, 'H')\n",
    "    \n",
    "suite6 = TestLoader().loadTestsFromTestCase(HuffManTreeTester)\n",
    "TextTestRunner().run(suite6)  "
   ]
  },
  {
   "cell_type": "markdown",
   "metadata": {},
   "source": [
    "### buildEncodeDictionaryWithTree\n",
    "This method is one that reads the tree to build a dictionary that converts the characters in the string into 1/0 sequences, for the ease of encoding - you don't have to search up and down the tree to find the path each time. (The Huffman encoding tree is very fast for turning a sequence, 01001, into a letter; but it's very slow to find the letter \"m,\" for example - you're essentially doing a linear search.) This method creates a variable, `self.encodingDictionary`, that lets you look up a letter and get it's code number easily. \n",
    "\n",
    "So, for instance, if you say `self.encodingDictionary('r')` it will give you the list `[0, 1, 1]`.\n",
    "\n",
    "This was annoying in a syntax-y way when I was writing it, so I won't make you do this one. Besides, I don't think you'll learn as much from it."
   ]
  },
  {
   "cell_type": "markdown",
   "metadata": {},
   "source": [
    "### encodeMessage() and decodeMessage()\n",
    "encodeMessage is short and sweet. You are receiving a string (typically the original string you set up earlier). Use the self.encodingDictionary to turn each letter into a sequence of 1's and 0's (bits), and generate a (very) long array of bits, which you should return.\n",
    "\n",
    "decodeMessage() is the opposite process, by way of the self.encodingTree. Read through the bits in the given array, navigate down the tree, and whenever you get to a leaf, add that letter to the output string. Then reset to the top of the tree, and repeat until you run out of bits!\n",
    "\n",
    "The test below takes a long string, encodes it, and then decodes it - Ideally, this should give you back the original string! It also makes a comparison of the size it would take to store the string in ASCII (8 bits / character) to that of the encoded message. (Note: this doesn't take into consideration the size of the encoding dictionary or tree, which we would have to pass along to decode this message - but for large N, it should be negligable.) You might find it interesting to see whether the Huffman process saves much space."
   ]
  },
  {
   "cell_type": "code",
   "execution_count": 91,
   "metadata": {},
   "outputs": [
    {
     "name": "stderr",
     "output_type": "stream",
     "text": [
      "..."
     ]
    },
    {
     "name": "stdout",
     "output_type": "stream",
     "text": [
      "Four score and seven years ago our fathers brought forth on this continent, a new nation, conceived in Liberty, and dedicated to the proposition that all men are created equal.\n",
      "Now we are engaged in a great civil war, testing whether that nation, or any nation so conceived and so dedicated, can long endure. We are met on a great battle-field of that war. We have come to dedicate a portion of that field, as a final resting place for those who here gave their lives that that nation might live. It is altogether fitting and proper that we should do this.\n",
      "But, in a larger sense, we can not dedicate -- we can not consecrate -- we can not hallow -- this ground. The brave men, living and dead, who struggled here, have consecrated it, far above our poor power to add or detract. The world will little note, nor long remember what we say here, but it can never forget what they did here. It is for us the living, rather, to be dedicated here to the unfinished work which they who fought here have thus far so nobly advanced. It is rather for us to be here dedicated to the great task remaining before us -- that from these honored dead we take increased devotion to that cause for which they gave the last full measure of devotion -- that we here highly resolve that these dead shall not have died in vain -- that this nation, under God, shall have a new birth of freedom -- and that government of the people, by the people, for the people, shall not perish from the earth.\n",
      "Abraham Lincoln\n",
      "November 19, 1863\n",
      "Original size in ASCII: 12056 bits (1507 bytes)\n",
      "encoded length: 6406 bits (800 bytes)\n"
     ]
    },
    {
     "name": "stderr",
     "output_type": "stream",
     "text": [
      "\n",
      "----------------------------------------------------------------------\n",
      "Ran 3 tests in 0.018s\n",
      "\n",
      "OK\n"
     ]
    },
    {
     "data": {
      "text/plain": [
       "<unittest.runner.TextTestResult run=3 errors=0 failures=0>"
      ]
     },
     "execution_count": 91,
     "metadata": {},
     "output_type": "execute_result"
    }
   ],
   "source": [
    "from unittest import *\n",
    "\n",
    "class HuffManEncodeDecodeTester (TestCase):\n",
    "    def testEncode(self):\n",
    "        encoder = HuffmanEncoder(\"I'm here to kick butt and chew bubblegum. And I'm all out of bubblegum.\")\n",
    "        encoder.buildFrequencyDictionary()\n",
    "        encoder.buildPriorityQueue()\n",
    "        encoder.buildTree()\n",
    "        encoder.buildEncodeDictionaryWithTree()\n",
    "        gibberish = encoder.encodeMessage(\"I'm here to kick butt and chew bubblegum. And I'm all out of bubblegum.\")\n",
    "        self.assertEqual(gibberish, [0, 1, 0, 1, 0, 0, 1, 0, 1, 1, 1, 0, 1, 0, 1, 1, 1, 0, 1, 1, 1, 1, 1, 1, 0, 0, 0, \\\n",
    "                                0, 1, 0, 1, 0, 1, 1, 0, 0, 1, 1, 1, 1, 0, 0, 1, 1, 0, 1, 1, 1, 1, 1, 1, 0, 1, 1, \\\n",
    "                                0, 1, 0, 0, 1, 0, 0, 1, 0, 1, 1, 0, 0, 1, 1, 0, 1, 1, 1, 1, 0, 0, 0, 1, 1, 0, 1, \\\n",
    "                                1, 0, 0, 1, 1, 0, 0, 1, 1, 1, 1, 0, 1, 1, 1, 0, 0, 1, 0, 0, 1, 0, 1, 0, 0, 0, 1, \\\n",
    "                                1, 1, 1, 0, 1, 1, 0, 0, 1, 1, 1, 1, 1, 1, 0, 0, 0, 0, 1, 0, 1, 1, 1, 1, 1, 0, 0, \\\n",
    "                                0, 1, 1, 0, 1, 0, 0, 0, 0, 0, 0, 1, 0, 0, 0, 1, 1, 0, 0, 0, 0, 1, 1, 0, 1, 1, 0, \\\n",
    "                                1, 1, 0, 1, 0, 0, 1, 1, 0, 0, 1, 1, 1, 0, 0, 1, 1, 1, 1, 0, 1, 0, 0, 1, 0, 1, 0, \\\n",
    "                                0, 0, 1, 1, 1, 0, 1, 0, 1, 0, 0, 1, 0, 1, 1, 1, 0, 1, 0, 1, 1, 1, 0, 1, 1, 1, 0, \\\n",
    "                                1, 0, 0, 0, 1, 0, 0, 0, 1, 1, 1, 1, 0, 1, 1, 1, 1, 1, 0, 1, 1, 0, 0, 1, 1, 1, 1, \\\n",
    "                                1, 0, 1, 1, 1, 0, 0, 1, 1, 1, 0, 1, 1, 1, 0, 0, 0, 1, 1, 0, 1, 0, 0, 0, 0, 0, 0, \\\n",
    "                                1, 0, 0, 0, 1, 1, 0, 0, 0, 0, 1, 1, 0, 1, 1, 0, 1, 1, 0, 1, 0, 0, 1, 1, 0, 0])\n",
    "        \n",
    "    def testDecode(self):\n",
    "        encoder = HuffmanEncoder(\"Where in the world is Carmen Sandiego?\")\n",
    "        encoder.doSetup()\n",
    "        self.assertEqual(encoder.decodeMessage([0, 1, 1, 1, 1, 1, 1, 0, 1, 1, 0, 0, 1, 1, 0, 1, 0, 1, 0, 0, 1, 0,\\\n",
    "                                                1, 1, 1, 0, 1, 0, 0, 1, 1, 1, 1, 0, 0, 1, 1, 0, 1, 1, 0, 1, 1, 1,\\\n",
    "                                                1, 1, 1, 1, 1, 0, 1, 0, 1, 0, 1, 1, 0, 1]),\"on the internet\")\n",
    "        \n",
    "    def testLongEncodeDecode(self):\n",
    "        gettysberg = (\"Four score and seven years ago our fathers brought forth on this continent, a new nation, \"\\\n",
    "                      \"conceived in Liberty, and dedicated to the proposition that all men are created equal.\\n\"\\\n",
    "                      \"Now we are engaged in a great civil war, testing whether that nation, or any nation so \"\\\n",
    "                      \"conceived and so dedicated, can long endure. We are met on a great battle-field of that \"\\\n",
    "                      \"war. We have come to dedicate a portion of that field, as a final resting place for those \"\\\n",
    "                      \"who here gave their lives that that nation might live. It is altogether fitting and proper \"\\\n",
    "                      \"that we should do this.\\n\"\\\n",
    "                      \"But, in a larger sense, we can not dedicate -- we can not consecrate -- we can not hallow \"\\\n",
    "                      \"-- this ground. The brave men, living and dead, who struggled here, have consecrated it, \"\\\n",
    "                      \"far above our poor power to add or detract. The world will little note, nor long remember \"\\\n",
    "                      \"what we say here, but it can never forget what they did here. It is for us the living, \"\\\n",
    "                      \"rather, to be dedicated here to the unfinished work which they who fought here have thus \"\\\n",
    "                      \"far so nobly advanced. It is rather for us to be here dedicated to the great task remaining \"\\\n",
    "                      \"before us -- that from these honored dead we take increased devotion to that cause for which \"\\\n",
    "                      \"they gave the last full measure of devotion -- that we here highly resolve that these dead \"\\\n",
    "                      \"shall not have died in vain -- that this nation, under God, shall have a new birth of freedom \"\\\n",
    "                      \"-- and that government of the people, by the people, for the people, shall not perish from the \"\\\n",
    "                      \"earth.\\nAbraham Lincoln\\nNovember 19, 1863\")\n",
    "        encoder = HuffmanEncoder(gettysberg)\n",
    "        encoder.doSetup()\n",
    "        encoded_getty = encoder.encodeMessage(gettysberg)\n",
    "        \n",
    "        reset_getty = encoder.decodeMessage(encoded_getty)\n",
    "        self.assertEqual(gettysberg, reset_getty)\n",
    "        print (reset_getty)\n",
    "        \n",
    "        print (\"Original size in ASCII: {0} bits ({1} bytes)\".format(8*len(gettysberg),len(gettysberg)))\n",
    "        print (\"encoded length: {0} bits ({1} bytes)\".format(len(encoded_getty),int(len(encoded_getty)/8)))\n",
    "        \n",
    "suite7 = TestLoader().loadTestsFromTestCase(HuffManEncodeDecodeTester)\n",
    "TextTestRunner().run(suite7) "
   ]
  },
  {
   "cell_type": "markdown",
   "metadata": {},
   "source": [
    "# Congratulations!\n",
    "If you've made it this far, then you have demonstrated a good understanding of Trees, Heaps, Priority Queues, Dictionaries, and Huffman Coding. Way to go!\n",
    "***\n",
    "\n",
    "**OPTIONAL:** \n",
    "\n",
    "If you are interested, you might choose to explore what you can do with the Huffman Coding. You are welcome to tinker with it, if it strikes your fancy.\n",
    "\n",
    "One idea that I thought might be worth exploring is this - are there some words (like \"the\" or \"and\") that show up often enough that they are worth coding as units? I envision searching through a number of common words and perhaps some hints for the source string you are considering (e.g., [\"the\", \"find\", \"and\", \"aliens\", \"but\", \"next\", \"probe\", \"not\", \"mind\", \"could\", \"if\", \"then\", \"yet\", \"Trump\"]) If you find them in the source string, remove them from the source string as you add their count (times the length of the tiny string???) to the original dictionary. I wonder whether this would improve the level of compression?"
   ]
  },
  {
   "cell_type": "code",
   "execution_count": null,
   "metadata": {
    "collapsed": true
   },
   "outputs": [],
   "source": []
  },
  {
   "cell_type": "code",
   "execution_count": null,
   "metadata": {
    "collapsed": true
   },
   "outputs": [],
   "source": []
  }
 ],
 "metadata": {
  "kernelspec": {
   "display_name": "Python 3",
   "language": "python",
   "name": "python3"
  },
  "language_info": {
   "codemirror_mode": {
    "name": "ipython",
    "version": 3
   },
   "file_extension": ".py",
   "mimetype": "text/x-python",
   "name": "python",
   "nbconvert_exporter": "python",
   "pygments_lexer": "ipython3",
   "version": "3.6.1"
  }
 },
 "nbformat": 4,
 "nbformat_minor": 2
}
